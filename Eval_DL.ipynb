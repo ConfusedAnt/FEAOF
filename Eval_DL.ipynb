{
 "cells": [
  {
   "cell_type": "markdown",
   "metadata": {},
   "source": [
    "Transformer"
   ]
  },
  {
   "cell_type": "code",
   "execution_count": 17,
   "metadata": {},
   "outputs": [],
   "source": [
    "\n",
    "import numpy as np\n",
    "from typing import List\n",
    "import pickle\n",
    "%reload_ext autoreload\n",
    "%autoreload 2\n",
    "from new_unit import Data, get_config, cross_validate, f1_acc\n",
    "from models import GCN, MPNN, CNN, Transformer\n",
    "\n",
    "from const import Descriptors\n",
    "from sklearn.metrics import f1_score, confusion_matrix, roc_curve,precision_recall_curve, auc\n",
    "from unit import compute_metrics, squeeze_if_needed,transformer_predict,cnn_predict\n",
    "\n",
    "\n",
    "import torch\n",
    "device = torch.device(\"cuda:0\" if torch.cuda.is_available() else \"cpu\")\n",
    "np.random.seed(42)"
   ]
  },
  {
   "cell_type": "code",
   "execution_count": null,
   "metadata": {},
   "outputs": [],
   "source": [
    "Model = \"Transformer\"\n",
    "model_path = \"./FEAOF/trained_models/DL/Transformer.pkl\"\n",
    "config_path = \"./configures/optimized/train_split/Transformer_TOKENS.yml\"\n",
    "\n",
    "file_name = f\"./trained_models/DL/{Model}.csv\"\n",
    "\n",
    "with open(file_name,\"w\") as p:\n",
    "    p.write(\"auc_score, pr_auc, AC, f1, SN, PR, SP, CCR, MCC\\n\")"
   ]
  },
  {
   "cell_type": "code",
   "execution_count": null,
   "metadata": {},
   "outputs": [],
   "source": [
    "\n",
    "with open(model_path, 'rb') as handle:\n",
    "    model_project = pickle.load(handle)\n",
    "\n",
    "hyperparameters = get_config(config_path)\n",
    "hyperparameters = {k: v.item() if isinstance(v, np.generic) else v for k, v in hyperparameters.items()}\n",
    "model = Transformer(None, 32, **hyperparameters).model\n",
    "\n",
    "model.load_state_dict(model_project.model)"
   ]
  },
  {
   "cell_type": "code",
   "execution_count": 20,
   "metadata": {},
   "outputs": [
    {
     "name": "stdout",
     "output_type": "stream",
     "text": [
      "./data/processed/Train_Val.csv\n",
      "data number :  (10543, 4)\n",
      "Binary classification performace metrics:\n",
      "[[561 109]\n",
      " [150 297]]\n",
      "TP, FN, TN, FP\n",
      "297, 150, 561, 109\n"
     ]
    },
    {
     "data": {
      "text/plain": [
       "(0.8463, 0.7876, 0.7681, 0.6964, 0.6644, 0.7315, 0.8373, 0.7509, 0.5111)"
      ]
     },
     "execution_count": 20,
     "metadata": {},
     "output_type": "execute_result"
    }
   ],
   "source": [
    "model.eval()\n",
    "data = Data(\"./data/processed/Train_Val.csv\")\n",
    "data(Descriptors.TOKENS)\n",
    "y_hat = transformer_predict(model,data.x_test,device)\n",
    "compute_metrics(np.array(data.y_test),y_hat,file_name)"
   ]
  },
  {
   "cell_type": "code",
   "execution_count": 21,
   "metadata": {},
   "outputs": [
    {
     "name": "stdout",
     "output_type": "stream",
     "text": [
      "./data/processed/Test_1.csv\n",
      "data number :  (177, 4)\n",
      "Binary classification performace metrics:\n",
      "[[108  21]\n",
      " [ 23  25]]\n",
      "TP, FN, TN, FP\n",
      "25, 23, 108, 21\n"
     ]
    },
    {
     "data": {
      "text/plain": [
       "(0.7602, 0.4687, 0.7514, 0.5319, 0.5208, 0.5435, 0.8372, 0.679, 0.3629)"
      ]
     },
     "execution_count": 21,
     "metadata": {},
     "output_type": "execute_result"
    }
   ],
   "source": [
    "model.eval() # close dropout of moldes\n",
    "data = Data(\"./data/processed/Test_1.csv\")\n",
    "data(Descriptors.TOKENS)\n",
    "\n",
    "y_hat = transformer_predict(model,data.x_test,device)\n",
    "compute_metrics(np.array(data.y_test),y_hat,file_name)"
   ]
  },
  {
   "cell_type": "code",
   "execution_count": 22,
   "metadata": {},
   "outputs": [
    {
     "name": "stdout",
     "output_type": "stream",
     "text": [
      "./data/processed/Test_2.csv\n",
      "data number :  (379, 4)\n",
      "Binary classification performace metrics:\n",
      "[[228  47]\n",
      " [ 40  64]]\n",
      "TP, FN, TN, FP\n",
      "64, 40, 228, 47\n"
     ]
    },
    {
     "data": {
      "text/plain": [
       "(0.8033, 0.5681, 0.7704, 0.5953, 0.6154, 0.5766, 0.8291, 0.7222, 0.4358)"
      ]
     },
     "execution_count": 22,
     "metadata": {},
     "output_type": "execute_result"
    }
   ],
   "source": [
    "model.eval() # close dropout of moldes\n",
    "data = Data(\"./data/processed/Test_2.csv\")\n",
    "data(Descriptors.TOKENS)\n",
    "\n",
    "y_hat = transformer_predict(model,data.x_test,device)\n",
    "compute_metrics(np.array(data.y_test),y_hat,file_name)"
   ]
  },
  {
   "cell_type": "markdown",
   "metadata": {},
   "source": [
    "CNN"
   ]
  },
  {
   "cell_type": "code",
   "execution_count": 47,
   "metadata": {},
   "outputs": [],
   "source": [
    "\n",
    "import numpy as np\n",
    "from typing import List\n",
    "import pickle\n",
    "%reload_ext autoreload\n",
    "%autoreload 2\n",
    "from new_unit import Data, get_config, cross_validate, f1_acc\n",
    "from models import GCN, MPNN, CNN, Transformer\n",
    "\n",
    "from const import Descriptors\n",
    "from sklearn.metrics import f1_score, confusion_matrix, roc_curve,precision_recall_curve, auc\n",
    "from unit import compute_metrics, squeeze_if_needed,transformer_predict,cnn_predict\n",
    "\n",
    "\n",
    "import torch\n",
    "device = torch.device(\"cuda:0\" if torch.cuda.is_available() else \"cpu\")"
   ]
  },
  {
   "cell_type": "code",
   "execution_count": null,
   "metadata": {},
   "outputs": [],
   "source": [
    "Model = \"CNN\"\n",
    "model_path = \"./FEAOF/trained_models/DL/CNN.pkl\"\n",
    "config_path = \"./configures/optimized/train_split/CNN_SMILES.yml\"\n",
    "\n",
    "file_name = f\"./trained_models/DL/{Model}.csv\"\n",
    "\n",
    "with open(file_name,\"w\") as p:\n",
    "    p.write(\"auc_score, pr_auc, AC, f1, SN, PR, SP, CCR, MCC\\n\")"
   ]
  },
  {
   "cell_type": "code",
   "execution_count": 49,
   "metadata": {},
   "outputs": [
    {
     "data": {
      "text/plain": [
       "<All keys matched successfully>"
      ]
     },
     "execution_count": 49,
     "metadata": {},
     "output_type": "execute_result"
    }
   ],
   "source": [
    "batch_size=32\n",
    "herg_em=None\n",
    "with open(model_path, 'rb') as handle:\n",
    "    model_project = pickle.load(handle)\n",
    "\n",
    "hyperparameters = get_config(config_path)\n",
    "hyperparameters = {k: v.item() if isinstance(v, np.generic) else v for k, v in hyperparameters.items()}\n",
    "model = CNN(herg_em, batch_size, **hyperparameters).model\n",
    "\n",
    "model.load_state_dict(model_project.model)"
   ]
  },
  {
   "cell_type": "code",
   "execution_count": 50,
   "metadata": {},
   "outputs": [
    {
     "name": "stdout",
     "output_type": "stream",
     "text": [
      "./data/processed/Train_Val.csv\n",
      "data number :  (10543, 4)\n",
      "Binary classification performace metrics:\n",
      "[[539 131]\n",
      " [151 296]]\n",
      "TP, FN, TN, FP\n",
      "296, 151, 539, 131\n"
     ]
    },
    {
     "data": {
      "text/plain": [
       "(0.785, 0.7115, 0.7475, 0.6773, 0.6622, 0.6932, 0.8045, 0.7333, 0.4705)"
      ]
     },
     "execution_count": 50,
     "metadata": {},
     "output_type": "execute_result"
    }
   ],
   "source": [
    "data = Data(\"./data/processed/Train_Val.csv\")\n",
    "data(Descriptors.SMILES)\n",
    "y_hat = cnn_predict(model,data.x_test,batch_size,herg_em,device)\n",
    "compute_metrics(np.array(data.y_test),y_hat,file_name)"
   ]
  },
  {
   "cell_type": "code",
   "execution_count": 51,
   "metadata": {},
   "outputs": [
    {
     "name": "stdout",
     "output_type": "stream",
     "text": [
      "./data/processed/Test_1.csv\n",
      "data number :  (177, 4)\n",
      "Binary classification performace metrics:\n",
      "[[87 42]\n",
      " [18 30]]\n",
      "TP, FN, TN, FP\n",
      "30, 18, 87, 42\n"
     ]
    },
    {
     "data": {
      "text/plain": [
       "(0.6684, 0.4321, 0.661, 0.5, 0.625, 0.4167, 0.6744, 0.6497, 0.271)"
      ]
     },
     "execution_count": 51,
     "metadata": {},
     "output_type": "execute_result"
    }
   ],
   "source": [
    "data = Data(\"./data/processed/Test_1.csv\")\n",
    "data(Descriptors.SMILES)\n",
    "y_hat = cnn_predict(model,data.x_test,batch_size,herg_em,device)\n",
    "compute_metrics(np.array(data.y_test),y_hat,file_name)"
   ]
  },
  {
   "cell_type": "code",
   "execution_count": 52,
   "metadata": {},
   "outputs": [
    {
     "name": "stdout",
     "output_type": "stream",
     "text": [
      "./data/processed/Test_2.csv\n",
      "data number :  (379, 4)\n",
      "Binary classification performace metrics:\n",
      "[[186  89]\n",
      " [ 34  70]]\n",
      "TP, FN, TN, FP\n",
      "70, 34, 186, 89\n"
     ]
    },
    {
     "data": {
      "text/plain": [
       "(0.7099, 0.4714, 0.6755, 0.5323, 0.6731, 0.4403, 0.6764, 0.6747, 0.316)"
      ]
     },
     "execution_count": 52,
     "metadata": {},
     "output_type": "execute_result"
    }
   ],
   "source": [
    "data = Data(\"./data/processed/Test_2.csv\")\n",
    "data(Descriptors.SMILES)\n",
    "y_hat = cnn_predict(model,data.x_test,batch_size,herg_em,device)\n",
    "compute_metrics(np.array(data.y_test),y_hat,file_name)"
   ]
  },
  {
   "cell_type": "markdown",
   "metadata": {},
   "source": [
    "GCN"
   ]
  },
  {
   "cell_type": "code",
   "execution_count": 22,
   "metadata": {},
   "outputs": [],
   "source": [
    "### MPNN model not trained by Train_DL.py\n",
    "### Trained by MPNN in FEAOF.py with GRAPH only\n",
    "import numpy as np\n",
    "from typing import List\n",
    "import pickle\n",
    "%reload_ext autoreload\n",
    "%autoreload 2\n",
    "from new_unit import Data, get_config, cross_validate, f1_acc\n",
    "from models import GCN, MPNN, CNN, Transformer\n",
    "\n",
    "from const import Descriptors\n",
    "from sklearn.metrics import f1_score, confusion_matrix, roc_curve,precision_recall_curve, auc\n",
    "from unit import compute_metrics, squeeze_if_needed,transformer_predict,cnn_predict,gcn_predict\n",
    "from torch_geometric.loader import DataLoader\n",
    "\n",
    "import torch\n",
    "device = torch.device(\"cuda:0\" if torch.cuda.is_available() else \"cpu\")\n",
    "batch_size=32\n",
    "herg_em=None"
   ]
  },
  {
   "cell_type": "code",
   "execution_count": null,
   "metadata": {},
   "outputs": [],
   "source": [
    "Model = \"GCN_V2\"\n",
    "model_path = \"./trained_models/DL/GCN_GRAPH.pkl\" \n",
    "config_path = \"./configures/optimized/train_split/GCN_GRAPH.yml\"\n",
    "\n",
    "file_name = f\"./trained_models/DL/{Model}.csv\"\n",
    "\n",
    "with open(file_name,\"w\") as p:\n",
    "    p.write(\"auc_score, pr_auc, AC, f1, SN, PR, SP, CCR, MCC\\n\")"
   ]
  },
  {
   "cell_type": "code",
   "execution_count": null,
   "metadata": {},
   "outputs": [],
   "source": [
    "\n",
    "with open(model_path, 'rb') as handle:\n",
    "    model_para = pickle.load(handle)\n",
    "hyperparameters = get_config(config_path)\n",
    "hyperparameters = {k: v.item() if isinstance(v, np.generic) else v for k, v in hyperparameters.items()}\n",
    "model = GCN(herg_em,batch_size,**hyperparameters).model \n",
    "\n",
    "model.load_state_dict(model_para)\n"
   ]
  },
  {
   "cell_type": "code",
   "execution_count": null,
   "metadata": {},
   "outputs": [],
   "source": [
    "data = Data(\"./data/processed/Train_Val.csv\")\n",
    "data(Descriptors.GRAPH)\n",
    "y_hat = gcn_predict(model,data.x_test,herg_em,device)\n",
    "compute_metrics(np.array(data.y_test),y_hat,file_name)"
   ]
  },
  {
   "cell_type": "code",
   "execution_count": 29,
   "metadata": {},
   "outputs": [
    {
     "name": "stdout",
     "output_type": "stream",
     "text": [
      "./data/processed/Test_1.csv\n",
      "data number :  (177, 4)\n",
      "Binary classification performace metrics:\n",
      "[[90 39]\n",
      " [15 33]]\n",
      "TP, FN, TN, FP\n",
      "33, 15, 90, 39\n"
     ]
    },
    {
     "data": {
      "text/plain": [
       "(0.744, 0.4799, 0.6949, 0.55, 0.6875, 0.4583, 0.6977, 0.6926, 0.3486)"
      ]
     },
     "execution_count": 29,
     "metadata": {},
     "output_type": "execute_result"
    }
   ],
   "source": [
    "data = Data(\"./data/processed/Test_1.csv\")\n",
    "data(Descriptors.GRAPH)\n",
    "y_hat = gcn_predict(model,data.x_test,herg_em,device)\n",
    "compute_metrics(np.array(data.y_test),y_hat,file_name)"
   ]
  },
  {
   "cell_type": "code",
   "execution_count": 30,
   "metadata": {},
   "outputs": [
    {
     "name": "stdout",
     "output_type": "stream",
     "text": [
      "./data/processed/Test_2.csv\n",
      "data number :  (379, 4)\n",
      "Binary classification performace metrics:\n",
      "[[188  87]\n",
      " [ 30  74]]\n",
      "TP, FN, TN, FP\n",
      "74, 30, 188, 87\n"
     ]
    },
    {
     "data": {
      "text/plain": [
       "(0.7698, 0.5403, 0.6913, 0.5585, 0.7115, 0.4596, 0.6836, 0.6976, 0.3567)"
      ]
     },
     "execution_count": 30,
     "metadata": {},
     "output_type": "execute_result"
    }
   ],
   "source": [
    "data = Data(\"./data/processed/Test_2.csv\")\n",
    "data(Descriptors.GRAPH)\n",
    "y_hat = gcn_predict(model,data.x_test,herg_em,device)\n",
    "compute_metrics(np.array(data.y_test),y_hat,file_name)"
   ]
  },
  {
   "cell_type": "markdown",
   "metadata": {},
   "source": [
    "MPNN"
   ]
  },
  {
   "cell_type": "code",
   "execution_count": 23,
   "metadata": {},
   "outputs": [],
   "source": [
    "### MPNN model not trained by Train_DL.py\n",
    "### Trained by MPNN in FEAOF.py with GRAPH only\n",
    "import numpy as np\n",
    "from typing import List\n",
    "import pickle\n",
    "%reload_ext autoreload\n",
    "%autoreload 2\n",
    "from new_unit import Data, get_config, cross_validate, f1_acc\n",
    "from models import GCN, MPNN, CNN, Transformer\n",
    "\n",
    "from const import Descriptors\n",
    "from sklearn.metrics import f1_score, confusion_matrix, roc_curve,precision_recall_curve, auc\n",
    "from unit import compute_metrics, squeeze_if_needed,transformer_predict,cnn_predict,gcn_predict\n",
    "from torch_geometric.loader import DataLoader\n",
    "\n",
    "import torch\n",
    "device = torch.device(\"cuda:0\" if torch.cuda.is_available() else \"cpu\")\n",
    "batch_size=32\n",
    "herg_em=None"
   ]
  },
  {
   "cell_type": "code",
   "execution_count": null,
   "metadata": {},
   "outputs": [],
   "source": [
    "Model = \"MPNN\"\n",
    "model_path = \"./trained_models/DL/MPNN_GRAPH.pkl\"\n",
    "config_path = \"./configures/optimized/train_split/MPNN_GRAPH.yml\"\n",
    "\n",
    "file_name = f\"./trained_models/DL/{Model}.csv\"\n",
    "\n",
    "with open(file_name,\"w\") as p:\n",
    "    p.write(\"auc_score, pr_auc, AC, f1, SN, PR, SP, CCR, MCC\\n\")"
   ]
  },
  {
   "cell_type": "code",
   "execution_count": null,
   "metadata": {},
   "outputs": [],
   "source": [
    "\n",
    "with open(model_path, 'rb') as handle:\n",
    "    model_para = pickle.load(handle)\n",
    "hyperparameters = get_config(config_path)\n",
    "hyperparameters = {k: v.item() if isinstance(v, np.generic) else v for k, v in hyperparameters.items()}\n",
    "model = MPNN(herg_em,batch_size,**hyperparameters).model\n",
    "\n",
    "model.load_state_dict(model_para)\n"
   ]
  },
  {
   "cell_type": "code",
   "execution_count": null,
   "metadata": {},
   "outputs": [
    {
     "name": "stdout",
     "output_type": "stream",
     "text": [
      "./data/processed/Train_Val.csv\n",
      "data number :  (10543, 4)\n",
      "Binary classification performace metrics:\n",
      "[[580  90]\n",
      " [106 341]]\n",
      "TP, FN, TN, FP\n",
      "341, 106, 580, 90\n"
     ]
    },
    {
     "data": {
      "text/plain": [
       "(0.8809, 0.8241, 0.8245, 0.7768, 0.7629, 0.7912, 0.8657, 0.8143, 0.6326)"
      ]
     },
     "execution_count": 28,
     "metadata": {},
     "output_type": "execute_result"
    }
   ],
   "source": [
    "data = Data(\"./data/processed/Train_Val.csv\")\n",
    "data(Descriptors.GRAPH)\n",
    "y_hat = gcn_predict(model,data.x_test,herg_em,device)\n",
    "compute_metrics(np.array(data.y_test),y_hat,file_name)"
   ]
  },
  {
   "cell_type": "code",
   "execution_count": null,
   "metadata": {},
   "outputs": [
    {
     "name": "stdout",
     "output_type": "stream",
     "text": [
      "./data/processed/Test_1.csv\n",
      "data number :  (177, 4)\n",
      "Binary classification performace metrics:\n",
      "[[106  23]\n",
      " [ 21  27]]\n",
      "TP, FN, TN, FP\n",
      "27, 21, 106, 23\n"
     ]
    },
    {
     "data": {
      "text/plain": [
       "(0.8014, 0.5185, 0.7514, 0.551, 0.5625, 0.54, 0.8217, 0.6921, 0.3794)"
      ]
     },
     "execution_count": 26,
     "metadata": {},
     "output_type": "execute_result"
    }
   ],
   "source": [
    "data = Data(\"./data/processed/Test_1.csv\")\n",
    "data(Descriptors.GRAPH)\n",
    "y_hat = gcn_predict(model,data.x_test,herg_em,device)\n",
    "compute_metrics(np.array(data.y_test),y_hat,file_name)"
   ]
  },
  {
   "cell_type": "code",
   "execution_count": null,
   "metadata": {},
   "outputs": [
    {
     "name": "stdout",
     "output_type": "stream",
     "text": [
      "./data/processed/Test_2.csv\n",
      "data number :  (379, 4)\n",
      "Binary classification performace metrics:\n",
      "[[224  51]\n",
      " [ 33  71]]\n",
      "TP, FN, TN, FP\n",
      "71, 33, 224, 51\n"
     ]
    },
    {
     "data": {
      "text/plain": [
       "(0.8462, 0.6517, 0.7784, 0.6283, 0.6827, 0.582, 0.8145, 0.7486, 0.4749)"
      ]
     },
     "execution_count": 27,
     "metadata": {},
     "output_type": "execute_result"
    }
   ],
   "source": [
    "data = Data(\"./data/processed/Test_2.csv\")\n",
    "data(Descriptors.GRAPH)\n",
    "y_hat = gcn_predict(model,data.x_test,herg_em,device)\n",
    "compute_metrics(np.array(data.y_test),y_hat,file_name)"
   ]
  },
  {
   "cell_type": "code",
   "execution_count": null,
   "metadata": {},
   "outputs": [],
   "source": []
  }
 ],
 "metadata": {
  "kernelspec": {
   "display_name": "my_evs",
   "language": "python",
   "name": "python3"
  },
  "language_info": {
   "codemirror_mode": {
    "name": "ipython",
    "version": 3
   },
   "file_extension": ".py",
   "mimetype": "text/x-python",
   "name": "python",
   "nbconvert_exporter": "python",
   "pygments_lexer": "ipython3",
   "version": "3.8.19"
  }
 },
 "nbformat": 4,
 "nbformat_minor": 2
}
