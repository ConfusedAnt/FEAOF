{
 "cells": [
  {
   "cell_type": "code",
   "execution_count": 1,
   "metadata": {},
   "outputs": [
    {
     "name": "stderr",
     "output_type": "stream",
     "text": [
      "==============================\n",
      "*** Open Babel Error  in openLib\n",
      "  /home/ubuntu/miniconda3/envs/my_evs/lib/openbabel/3.1.0/png2format.so did not load properly.\n",
      " Error: libXrender.so.1: cannot open shared object file: No such file or directory\n"
     ]
    }
   ],
   "source": [
    "import numpy as np\n",
    "import pandas as pd\n",
    "import sys\n",
    "sys.path.append(\"/home/ubuntu/FEAOF\")\n",
    "from unit import merge_fp_des\n",
    "import pickle\n",
    "\n",
    "def load_des_pkl(pkl_path):\n",
    "    with open(pkl_path, 'rb') as handle:\n",
    "        mols_rep = pickle.load(handle)\n",
    "    return mols_rep"
   ]
  },
  {
   "cell_type": "code",
   "execution_count": 2,
   "metadata": {},
   "outputs": [],
   "source": [
    "trian_val_data = pd.read_csv(\"/home/ubuntu/FEAOF/data/processed/Train_Val_modified.csv\")"
   ]
  },
  {
   "cell_type": "code",
   "execution_count": 3,
   "metadata": {},
   "outputs": [],
   "source": [
    "trian_data = trian_val_data[trian_val_data[\"split\"]==\"train\"]"
   ]
  },
  {
   "cell_type": "code",
   "execution_count": 4,
   "metadata": {},
   "outputs": [],
   "source": [
    "valu_set_60 = pd.read_csv(\"/home/ubuntu/FEAOF/data/IF_Data/4_eval_set_60_IF_clean.csv\")\n",
    "valu_set_70 = pd.read_csv(\"/home/ubuntu/FEAOF/data/IF_Data/4_eval_set_70_IF_clean.csv\")"
   ]
  },
  {
   "cell_type": "code",
   "execution_count": 5,
   "metadata": {},
   "outputs": [],
   "source": [
    "valu_set_60_filter = valu_set_60[~valu_set_60[\"smiles\"].isin(trian_data[\"smiles\"])]\n",
    "valu_set_70_filter = valu_set_70[~valu_set_70[\"smiles\"].isin(trian_data[\"smiles\"])]"
   ]
  },
  {
   "cell_type": "code",
   "execution_count": 6,
   "metadata": {},
   "outputs": [],
   "source": [
    "valu_set_60_filter.to_csv(\"/home/ubuntu/FEAOF/data/IF_Data/5_eval_set_60_IF_filter_modified.csv\",index=None)\n",
    "valu_set_70_filter.to_csv(\"/home/ubuntu/FEAOF/data/IF_Data/5_eval_set_70_IF_filter_modified.csv\",index=None)"
   ]
  },
  {
   "cell_type": "code",
   "execution_count": 7,
   "metadata": {},
   "outputs": [
    {
     "data": {
      "text/plain": [
       "(199, 1444)"
      ]
     },
     "execution_count": 7,
     "metadata": {},
     "output_type": "execute_result"
    }
   ],
   "source": [
    "valu_set_60_filter.shape"
   ]
  },
  {
   "cell_type": "code",
   "execution_count": 8,
   "metadata": {},
   "outputs": [
    {
     "data": {
      "text/plain": [
       "(354, 1444)"
      ]
     },
     "execution_count": 8,
     "metadata": {},
     "output_type": "execute_result"
    }
   ],
   "source": [
    "valu_set_70_filter.shape"
   ]
  }
 ],
 "metadata": {
  "kernelspec": {
   "display_name": "my_evs",
   "language": "python",
   "name": "python3"
  },
  "language_info": {
   "codemirror_mode": {
    "name": "ipython",
    "version": 3
   },
   "file_extension": ".py",
   "mimetype": "text/x-python",
   "name": "python",
   "nbconvert_exporter": "python",
   "pygments_lexer": "ipython3",
   "version": "3.8.18"
  }
 },
 "nbformat": 4,
 "nbformat_minor": 2
}
