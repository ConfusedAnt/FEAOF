{
 "cells": [
  {
   "cell_type": "code",
   "execution_count": 5,
   "metadata": {},
   "outputs": [],
   "source": [
    "import pandas as pd\n",
    "from glob import glob"
   ]
  },
  {
   "cell_type": "code",
   "execution_count": null,
   "metadata": {},
   "outputs": [],
   "source": [
    "csv_file = [\"Docking_IF_1.csv\",\"Docking_IF_2.csv\",\"Docking_IF_3.csv\"]"
   ]
  },
  {
   "cell_type": "code",
   "execution_count": null,
   "metadata": {},
   "outputs": [],
   "source": [
    "dfs = []\n",
    "for file in csv_file:\n",
    "    df = pd.read_csv(file)\n",
    "    dfs.append(df)\n",
    "\n",
    "df_all = pd.concat(dfs)"
   ]
  },
  {
   "cell_type": "code",
   "execution_count": 8,
   "metadata": {},
   "outputs": [],
   "source": [
    "additional_columns = ['Title', \"s_sd_smiles\",'r_i_docking_score']"
   ]
  },
  {
   "cell_type": "code",
   "execution_count": 9,
   "metadata": {},
   "outputs": [],
   "source": [
    "columns_to_select = df_all.filter(regex=r'[A-D]6[2-5]\\d').columns\n",
    "selected_columns = additional_columns + list(columns_to_select)\n",
    "selected_df = df_all[selected_columns]"
   ]
  },
  {
   "cell_type": "code",
   "execution_count": null,
   "metadata": {},
   "outputs": [],
   "source": [
    "selected_df.iloc[:,1:]"
   ]
  },
  {
   "cell_type": "code",
   "execution_count": null,
   "metadata": {},
   "outputs": [],
   "source": [
    "Train_Val = pd.read_csv(\"../processed/Train_Val.csv\")\n",
    "Test_1 = pd.read_csv(\"../processed/Test_1.csv\")\n",
    "Test_2 = pd.read_csv(\"../processed/Test_2.csv\")"
   ]
  },
  {
   "cell_type": "code",
   "execution_count": null,
   "metadata": {},
   "outputs": [],
   "source": [
    "Train_Val_IF = pd.merge(Train_Val, selected_df.iloc[:,1:], left_on=\"smiles\", right_on=\"s_sd_smiles\", how=\"left\")\n",
    "# Test_1_IF = pd.merge(Test_1, selected_df.iloc[:,1:], left_on=\"smiles\", right_on=\"s_sd_smiles\", how=\"left\")\n",
    "# Test_2_IF = pd.merge(Test_2, selected_df.iloc[:,1:], left_on=\"smiles\", right_on=\"s_sd_smiles\", how=\"left\")"
   ]
  },
  {
   "cell_type": "code",
   "execution_count": null,
   "metadata": {},
   "outputs": [],
   "source": [
    "Train_Val_IF = Train_Val_IF.fillna(0).drop(columns=\"s_sd_smiles\")\n",
    "# Test_1_IF = Test_1_IF.fillna(0).drop(columns=\"s_sd_smiles\")\n",
    "# Test_2_IF = Test_2_IF.fillna(0).drop(columns=\"s_sd_smiles\")"
   ]
  },
  {
   "cell_type": "code",
   "execution_count": null,
   "metadata": {},
   "outputs": [],
   "source": [
    "Train_Val_IF.to_csv(\"Train_Val_IF.csv\",index=None)\n",
    "# Test_1_IF.to_csv(\"Test_1_IF.csv\",index=None)\n",
    "# Test_2_IF.to_csv(\"Test_2_IF.csv\",index=None)"
   ]
  }
 ],
 "metadata": {
  "kernelspec": {
   "display_name": "teachopencadd",
   "language": "python",
   "name": "python3"
  },
  "language_info": {
   "codemirror_mode": {
    "name": "ipython",
    "version": 3
   },
   "file_extension": ".py",
   "mimetype": "text/x-python",
   "name": "python",
   "nbconvert_exporter": "python",
   "pygments_lexer": "ipython3",
   "version": "3.8.19"
  }
 },
 "nbformat": 4,
 "nbformat_minor": 2
}
