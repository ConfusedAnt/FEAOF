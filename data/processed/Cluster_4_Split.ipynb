{
 "cells": [
  {
   "cell_type": "code",
   "execution_count": 1,
   "metadata": {},
   "outputs": [],
   "source": [
    "\"\"\"\n",
    "teachopencadd\n",
    "\"\"\"\n",
    "import time\n",
    "import random\n",
    "from pathlib import Path\n",
    "\n",
    "import pandas as pd\n",
    "import numpy\n",
    "import matplotlib.pyplot as plt\n",
    "from rdkit import Chem\n",
    "from rdkit import DataStructs\n",
    "from rdkit.ML.Cluster import Butina\n",
    "from rdkit.Chem import rdFingerprintGenerator\n",
    "\n",
    "from teachopencadd.utils import seed_everything\n",
    "\n",
    "from pathlib import Path\n",
    "\n",
    "from rdkit.Chem import (\n",
    "    PandasTools,\n",
    "    Draw,\n",
    "    Descriptors,\n",
    "    MACCSkeys,\n",
    "    rdFingerprintGenerator,\n",
    ")\n",
    "\n",
    "%load_ext autoreload\n",
    "%autoreload 2\n",
    "from utils import  tanimoto_distance_matrix_from_centroid\n",
    "from utils import  tanimoto_distance_matrix, cluster_fingerprints\n",
    "\n",
    "# seed_everything()  # fix seed to get deterministic outputs"
   ]
  },
  {
   "cell_type": "code",
   "execution_count": 2,
   "metadata": {},
   "outputs": [],
   "source": [
    "data_df = pd.read_csv(\"../raw/herg_raw_0528_clean.csv\")"
   ]
  },
  {
   "cell_type": "code",
   "execution_count": 3,
   "metadata": {},
   "outputs": [
    {
     "data": {
      "text/plain": [
       "Index(['Molecule ChEMBL ID', 'y', 'smiles'], dtype='object')"
      ]
     },
     "execution_count": 3,
     "metadata": {},
     "output_type": "execute_result"
    }
   ],
   "source": [
    "data_df.columns"
   ]
  },
  {
   "cell_type": "code",
   "execution_count": 4,
   "metadata": {},
   "outputs": [],
   "source": [
    "data_df[\"MW\"]=data_df[\"smiles\"].apply(lambda x : Descriptors.ExactMolWt(Chem.MolFromSmiles(x)))"
   ]
  },
  {
   "cell_type": "code",
   "execution_count": 5,
   "metadata": {},
   "outputs": [],
   "source": [
    "PandasTools.AddMoleculeColumnToFrame(data_df, smilesCol=\"smiles\")\n",
    "PandasTools.RenderImagesInAllDataFrames(True)"
   ]
  },
  {
   "cell_type": "code",
   "execution_count": 6,
   "metadata": {},
   "outputs": [
    {
     "name": "stdout",
     "output_type": "stream",
     "text": [
      "605\n"
     ]
    }
   ],
   "source": [
    "data_df[\"maccs\"] = data_df.ROMol.apply(MACCSkeys.GenMACCSKeys)\n",
    "fps_1 = data_df[\"maccs\"].tolist()\n",
    "clusters = cluster_fingerprints(fps_1, cutoff=0.4)\n",
    "print(len(clusters))\n"
   ]
  },
  {
   "cell_type": "code",
   "execution_count": null,
   "metadata": {},
   "outputs": [],
   "source": [
    "'''\n",
    "Test 1 : clusters[i]) >2\n",
    "Test 2 : clusters[i]) >5\n",
    "'''\n",
    "cls_less_list = []\n",
    "cls_more_list = []\n",
    "# len(clusters[0])\n",
    "for i in range(len(clusters)):\n",
    "    if len(clusters[i]) >5:\n",
    "        cls_more_list.append(i)\n",
    "    elif len(clusters[i]) <6:\n",
    "        cls_less_list.append(i)"
   ]
  },
  {
   "cell_type": "code",
   "execution_count": 8,
   "metadata": {},
   "outputs": [
    {
     "data": {
      "text/plain": [
       "set()"
      ]
     },
     "execution_count": 8,
     "metadata": {},
     "output_type": "execute_result"
    }
   ],
   "source": [
    "set(cls_less_list) & set(cls_more_list)"
   ]
  },
  {
   "cell_type": "code",
   "execution_count": 9,
   "metadata": {},
   "outputs": [
    {
     "data": {
      "text/plain": [
       "422"
      ]
     },
     "execution_count": 9,
     "metadata": {},
     "output_type": "execute_result"
    }
   ],
   "source": [
    "len(cls_less_list)"
   ]
  },
  {
   "cell_type": "code",
   "execution_count": 10,
   "metadata": {},
   "outputs": [
    {
     "data": {
      "text/plain": [
       "183"
      ]
     },
     "execution_count": 10,
     "metadata": {},
     "output_type": "execute_result"
    }
   ],
   "source": [
    "len(cls_more_list)"
   ]
  },
  {
   "cell_type": "code",
   "execution_count": 11,
   "metadata": {},
   "outputs": [],
   "source": [
    "\n",
    "cls_more_dfs = []\n",
    "for i in (cls_more_list):\n",
    "    # print(len(clusters[i]))\n",
    "    df = data_df.loc[list(clusters[i])]\n",
    "    df[\"Cluster\"]=i\n",
    "    df.reset_index(drop=True,inplace=True)\n",
    "    cls_more_dfs.append(df)"
   ]
  },
  {
   "cell_type": "code",
   "execution_count": 12,
   "metadata": {},
   "outputs": [
    {
     "data": {
      "text/plain": [
       "(14961, 7)"
      ]
     },
     "execution_count": 12,
     "metadata": {},
     "output_type": "execute_result"
    }
   ],
   "source": [
    "cls_more_df = pd.concat(cls_more_dfs)\n",
    "cls_more_df.shape"
   ]
  },
  {
   "cell_type": "code",
   "execution_count": 13,
   "metadata": {},
   "outputs": [
    {
     "data": {
      "text/plain": [
       "Cluster\n",
       "0      7271\n",
       "1       904\n",
       "2       832\n",
       "3       488\n",
       "4       320\n",
       "       ... \n",
       "165       6\n",
       "164       6\n",
       "163       6\n",
       "162       6\n",
       "182       6\n",
       "Name: count, Length: 183, dtype: int64"
      ]
     },
     "execution_count": 13,
     "metadata": {},
     "output_type": "execute_result"
    }
   ],
   "source": [
    "cls_more_df[\"Cluster\"].value_counts()"
   ]
  },
  {
   "cell_type": "code",
   "execution_count": 14,
   "metadata": {},
   "outputs": [
    {
     "data": {
      "text/plain": [
       "y\n",
       "0    9140\n",
       "1    5821\n",
       "Name: count, dtype: int64"
      ]
     },
     "execution_count": 14,
     "metadata": {},
     "output_type": "execute_result"
    }
   ],
   "source": [
    "cls_more_df.y.value_counts()"
   ]
  },
  {
   "cell_type": "code",
   "execution_count": 16,
   "metadata": {},
   "outputs": [
    {
     "data": {
      "text/plain": [
       "y\n",
       "0    6281\n",
       "1    4262\n",
       "Name: count, dtype: int64"
      ]
     },
     "execution_count": 16,
     "metadata": {},
     "output_type": "execute_result"
    }
   ],
   "source": [
    "cls_more_df[(cls_more_df['MW'] >= 300) & (cls_more_df['MW'] <= 500)].y.value_counts()"
   ]
  },
  {
   "cell_type": "code",
   "execution_count": 17,
   "metadata": {},
   "outputs": [],
   "source": [
    "\n",
    "cls_less_dfs = []\n",
    "for i in cls_less_list:\n",
    "    # print(len(clusters[i]))\n",
    "    df = data_df.loc[list(clusters[i])]\n",
    "    df[\"Cluster\"]=i\n",
    "    df.reset_index(drop=True,inplace=True)\n",
    "    cls_less_dfs.append(df)"
   ]
  },
  {
   "cell_type": "code",
   "execution_count": 18,
   "metadata": {},
   "outputs": [
    {
     "data": {
      "text/plain": [
       "(845, 7)"
      ]
     },
     "execution_count": 18,
     "metadata": {},
     "output_type": "execute_result"
    }
   ],
   "source": [
    "cls_less_df = pd.concat(cls_less_dfs)\n",
    "cls_less_df.shape"
   ]
  },
  {
   "cell_type": "code",
   "execution_count": 19,
   "metadata": {},
   "outputs": [
    {
     "data": {
      "text/plain": [
       "y\n",
       "0    275\n",
       "1    104\n",
       "Name: count, dtype: int64"
      ]
     },
     "execution_count": 19,
     "metadata": {},
     "output_type": "execute_result"
    }
   ],
   "source": [
    "cls_less_df[(cls_less_df['MW'] >= 300) & (cls_less_df['MW'] <= 500)].y.value_counts()"
   ]
  },
  {
   "cell_type": "code",
   "execution_count": 20,
   "metadata": {},
   "outputs": [
    {
     "data": {
      "text/plain": [
       "Index(['Molecule ChEMBL ID', 'y', 'smiles', 'MW', 'ROMol', 'maccs', 'Cluster'], dtype='object')"
      ]
     },
     "execution_count": 20,
     "metadata": {},
     "output_type": "execute_result"
    }
   ],
   "source": [
    "cls_more_df.columns"
   ]
  },
  {
   "cell_type": "code",
   "execution_count": null,
   "metadata": {},
   "outputs": [],
   "source": [
    "all_data_cls = pd.concat([cls_more_df,cls_less_df])[[\"smiles\",\"y\",\"MW\",\"Cluster\"]]"
   ]
  },
  {
   "cell_type": "code",
   "execution_count": null,
   "metadata": {},
   "outputs": [],
   "source": [
    "all_data_cls.to_csv(\"All_Data_Cluster.csv\",index=None)"
   ]
  },
  {
   "cell_type": "code",
   "execution_count": 24,
   "metadata": {},
   "outputs": [],
   "source": [
    "cls_less_df[\"split\"]=\"test\""
   ]
  },
  {
   "cell_type": "code",
   "execution_count": null,
   "metadata": {},
   "outputs": [],
   "source": [
    "cls_less_df[[\"smiles\",\"y\",\"split\"]].to_csv(\"Test_2.csv\",index=None)\n",
    "#cls_less_df[[\"smiles\",\"y\",\"split\"]].to_csv(\"Test_1.csv\",index=None)"
   ]
  },
  {
   "cell_type": "code",
   "execution_count": null,
   "metadata": {},
   "outputs": [],
   "source": [
    "cls_more_df[[\"smiles\",\"y\",\"Cluster\"]].to_csv(\"Train_Val_Cluster.csv\",index=None)"
   ]
  },
  {
   "cell_type": "code",
   "execution_count": null,
   "metadata": {},
   "outputs": [],
   "source": []
  }
 ],
 "metadata": {
  "kernelspec": {
   "display_name": "data_pro",
   "language": "python",
   "name": "python3"
  },
  "language_info": {
   "codemirror_mode": {
    "name": "ipython",
    "version": 3
   },
   "file_extension": ".py",
   "mimetype": "text/x-python",
   "name": "python",
   "nbconvert_exporter": "python",
   "pygments_lexer": "ipython3",
   "version": "3.9.19"
  }
 },
 "nbformat": 4,
 "nbformat_minor": 2
}
