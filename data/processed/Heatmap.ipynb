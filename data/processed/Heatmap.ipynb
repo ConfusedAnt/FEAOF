{
 "cells": [
  {
   "cell_type": "code",
   "execution_count": 27,
   "metadata": {},
   "outputs": [],
   "source": [
    "import pandas as pd\n",
    "from rdkit.Chem import Descriptors as Des\n",
    "from rdkit import Chem\n",
    "\n",
    "import numpy as np\n",
    "from rdkit.Chem import MACCSkeys, DataStructs\n",
    "import seaborn as sns\n",
    "import matplotlib.pyplot as plt\n",
    "import matplotlib.colors as mcolors"
   ]
  },
  {
   "cell_type": "code",
   "execution_count": 28,
   "metadata": {},
   "outputs": [],
   "source": [
    "import pandas as pd\n",
    "from rdkit import Chem\n",
    "from rdkit.Chem import Descriptors\n",
    "\n",
    "import matplotlib as mpl\n",
    "mpl.rcParams['pdf.fonttype'] = 42\n",
    "mpl.rcParams['ps.fonttype'] = 42\n",
    "\n",
    "import matplotlib.pyplot as plt\n",
    "plt.rc('font',family='Times New Roman')\n"
   ]
  },
  {
   "cell_type": "code",
   "execution_count": 29,
   "metadata": {},
   "outputs": [],
   "source": [
    "Test_1 = pd.read_csv(\"Test_1.csv\")\n",
    "Test_1[\"split\"]=\"Test 1\"\n",
    "Test_2 = pd.read_csv(\"Test_2.csv\")\n",
    "Test_2[\"split\"]=\"Test 2\"\n",
    "Train_Val = pd.read_csv(\"Train_Val.csv\")\n",
    "Train_Val['split'] = Train_Val['split'].replace({'train': 'Train', 'test': 'Validation'})"
   ]
  },
  {
   "cell_type": "code",
   "execution_count": 30,
   "metadata": {},
   "outputs": [],
   "source": [
    "data = pd.concat([Train_Val[Train_Val[\"split\"]==\"Validation\"],Test_1])"
   ]
  },
  {
   "cell_type": "code",
   "execution_count": 31,
   "metadata": {},
   "outputs": [],
   "source": [
    "data[\"MV\"]=data[\"smiles\"].apply(lambda x : Des.ExactMolWt(Chem.MolFromSmiles(x)))"
   ]
  },
  {
   "cell_type": "code",
   "execution_count": 32,
   "metadata": {},
   "outputs": [],
   "source": [
    "data = data[(data['MV'] >= 300) & (data['MV'] <= 500)]"
   ]
  },
  {
   "cell_type": "code",
   "execution_count": 33,
   "metadata": {},
   "outputs": [],
   "source": [
    "\n",
    "def calculate_maccs(smiles):\n",
    "    mol = Chem.MolFromSmiles(smiles)\n",
    "    if mol is not None:\n",
    "        return MACCSkeys.GenMACCSKeys(mol)\n",
    "    else:\n",
    "        return None\n",
    "\n",
    "data['MACCS'] = data['smiles'].apply(calculate_maccs)\n",
    "maccs_fps = [fp for fp in data['MACCS'] if fp is not None]\n",
    "split_labels = data['split'][data['MACCS'].notnull()].values\n",
    "\n",
    "def calculate_similarity_matrix(fps):\n",
    "    num_fps = len(fps)\n",
    "    similarity_matrix = np.zeros((num_fps, num_fps))\n",
    "    for i in range(num_fps):\n",
    "        for j in range(num_fps):\n",
    "            similarity_matrix[i, j] = DataStructs.TanimotoSimilarity(fps[i], fps[j])\n",
    "    return similarity_matrix\n",
    "\n",
    "similarity_matrix = calculate_similarity_matrix(maccs_fps)\n"
   ]
  },
  {
   "cell_type": "code",
   "execution_count": 34,
   "metadata": {},
   "outputs": [
    {
     "data": {
      "text/plain": [
       "(1294, 1294)"
      ]
     },
     "execution_count": 34,
     "metadata": {},
     "output_type": "execute_result"
    }
   ],
   "source": [
    "similarity_matrix.shape"
   ]
  },
  {
   "cell_type": "markdown",
   "metadata": {},
   "source": [
    "测试集与验证集/训练集的相似性热图"
   ]
  },
  {
   "cell_type": "code",
   "execution_count": null,
   "metadata": {},
   "outputs": [],
   "source": [
    "import matplotlib.pyplot as plt\n",
    "import seaborn as sns\n",
    "import numpy as np\n",
    "from matplotlib.patches import Rectangle\n",
    "from matplotlib.lines import Line2D\n",
    "\n",
    "# 设置画布\n",
    "plt.figure(figsize=(12, 10), dpi=600)\n",
    "\n",
    "# 唯一split和颜色映射\n",
    "unique_splits = np.unique(split_labels)\n",
    "colors = sns.color_palette(\"husl\", len(unique_splits))\n",
    "split_color_map = dict(zip(unique_splits, colors))\n",
    "\n",
    "# 绘制heatmap\n",
    "# ax = sns.heatmap(similarity_matrix, cmap='viridis', xticklabels=False, yticklabels=False, cbar=True)\n",
    "# 在 heatmap 中加 rasterized=True\n",
    "ax = sns.heatmap(similarity_matrix, cmap='viridis', xticklabels=False, yticklabels=False, cbar=True, rasterized=True)\n",
    "\n",
    "\n",
    "# 设置 colorbar 刻度字体大小\n",
    "cbar = ax.collections[0].colorbar\n",
    "cbar.ax.tick_params(labelsize=16)\n",
    "\n",
    "# 顶部色带标注split\n",
    "for i, label in enumerate(split_labels):\n",
    "    color = split_color_map[label]\n",
    "    ax.add_patch(plt.Rectangle((i, -0.5), 1, 0.5, color=color, clip_on=False))\n",
    "\n",
    "# 框选区域并加label文字\n",
    "for split, color in split_color_map.items():\n",
    "    indices = np.where(split_labels == split)[0]\n",
    "    if len(indices) > 0:\n",
    "        start = indices[0]\n",
    "        end = indices[-1]\n",
    "        width = end - start + 1\n",
    "\n",
    "        # 边框矩形\n",
    "        rect = Rectangle((start, start), width, width, edgecolor=color, facecolor='none', linewidth=2)\n",
    "        ax.add_patch(rect)\n",
    "\n",
    "        # label文字\n",
    "        center_x = start + width / 2\n",
    "        center_y = start + width / 2\n",
    "        ax.text(center_x, center_y, split, color='white', fontsize=20,\n",
    "                ha='center', va='center', fontweight='bold',\n",
    "                bbox=dict(facecolor='black', alpha=0.4, boxstyle='round,pad=0.3'))\n",
    "\n",
    "# 添加标题和轴标签\n",
    "plt.title('MACCS Fingerprint Similarity Between Validation and Test 1 Sets', fontsize=20)\n",
    "plt.xlabel('Molecule Index', fontsize=20)\n",
    "plt.ylabel('Molecule Index', fontsize=20)\n",
    "\n",
    "# 创建图例（如需显示，可取消注释）\n",
    "# legend_elements = [Line2D([0], [0], marker='o', color='w',\n",
    "#                           markerfacecolor=color, markersize=16, label=split)\n",
    "#                    for split, color in split_color_map.items()]\n",
    "# plt.legend(handles=legend_elements, title='Split', bbox_to_anchor=(1.05, 1), loc='upper right')\n",
    "\n",
    "plt.tight_layout()\n",
    "\n",
    "# 保存图像为PDF\n",
    "plt.savefig(\"/home/ubuntu/FEAOF/figs/fig1_C_1_3.pdf\", format='pdf', bbox_inches='tight')\n",
    "plt.show()\n"
   ]
  },
  {
   "cell_type": "code",
   "execution_count": null,
   "metadata": {},
   "outputs": [],
   "source": []
  }
 ],
 "metadata": {
  "kernelspec": {
   "display_name": "my_evs",
   "language": "python",
   "name": "python3"
  },
  "language_info": {
   "codemirror_mode": {
    "name": "ipython",
    "version": 3
   },
   "file_extension": ".py",
   "mimetype": "text/x-python",
   "name": "python",
   "nbconvert_exporter": "python",
   "pygments_lexer": "ipython3",
   "version": "3.8.18"
  }
 },
 "nbformat": 4,
 "nbformat_minor": 2
}
