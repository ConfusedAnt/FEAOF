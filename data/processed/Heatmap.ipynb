{
 "cells": [
  {
   "cell_type": "code",
   "execution_count": 1,
   "metadata": {},
   "outputs": [],
   "source": [
    "import pandas as pd\n",
    "from rdkit.Chem import Descriptors as Des\n",
    "from rdkit import Chem\n",
    "\n",
    "import numpy as np\n",
    "from rdkit.Chem import MACCSkeys, DataStructs\n",
    "import seaborn as sns\n",
    "import matplotlib.pyplot as plt\n",
    "import matplotlib.colors as mcolors"
   ]
  },
  {
   "cell_type": "code",
   "execution_count": null,
   "metadata": {},
   "outputs": [],
   "source": [
    "Test_1 = pd.read_csv(\"Test_1.csv\")\n",
    "Test_1[\"split\"]=\"Test_1\"\n",
    "Test_2 = pd.read_csv(\"Test_2.csv\")\n",
    "Test_2[\"split\"]=\"Test_2\"\n",
    "Train_Val = pd.read_csv(\"Train_Val.csv\")\n",
    "Train_Val['split'] = Train_Val['split'].replace({'train': 'Train', 'test': 'Validation'})"
   ]
  },
  {
   "cell_type": "code",
   "execution_count": null,
   "metadata": {},
   "outputs": [],
   "source": [
    "data = pd.concat([Train_Val[Train_Val[\"split\"]==\"Train\"],Test_2])"
   ]
  },
  {
   "cell_type": "code",
   "execution_count": 48,
   "metadata": {},
   "outputs": [],
   "source": [
    "data[\"MV\"]=data[\"smiles\"].apply(lambda x : Des.ExactMolWt(Chem.MolFromSmiles(x)))"
   ]
  },
  {
   "cell_type": "code",
   "execution_count": 49,
   "metadata": {},
   "outputs": [],
   "source": [
    "data = data[(data['MV'] >= 300) & (data['MV'] <= 500)]"
   ]
  },
  {
   "cell_type": "code",
   "execution_count": null,
   "metadata": {},
   "outputs": [],
   "source": [
    "\n",
    "def calculate_maccs(smiles):\n",
    "    mol = Chem.MolFromSmiles(smiles)\n",
    "    if mol is not None:\n",
    "        return MACCSkeys.GenMACCSKeys(mol)\n",
    "    else:\n",
    "        return None\n",
    "\n",
    "data['MACCS'] = data['smiles'].apply(calculate_maccs)\n",
    "maccs_fps = [fp for fp in data['MACCS'] if fp is not None]\n",
    "split_labels = data['split'][data['MACCS'].notnull()].values\n",
    "\n",
    "def calculate_similarity_matrix(fps):\n",
    "    num_fps = len(fps)\n",
    "    similarity_matrix = np.zeros((num_fps, num_fps))\n",
    "    for i in range(num_fps):\n",
    "        for j in range(num_fps):\n",
    "            similarity_matrix[i, j] = DataStructs.TanimotoSimilarity(fps[i], fps[j])\n",
    "    return similarity_matrix\n",
    "\n",
    "similarity_matrix = calculate_similarity_matrix(maccs_fps)\n",
    "\n",
    "plt.figure(figsize=(12, 10), dpi=300)\n",
    "\n",
    "unique_splits = np.unique(split_labels)\n",
    "colors = sns.color_palette(\"husl\", len(unique_splits))\n",
    "split_color_map = dict(zip(unique_splits, colors))\n",
    "\n",
    "ax = sns.heatmap(similarity_matrix, cmap='viridis', xticklabels=False, yticklabels=False, cbar=True)\n",
    "\n",
    "for i, label in enumerate(split_labels):\n",
    "    color = split_color_map[label]\n",
    "    ax.add_patch(plt.Rectangle((i, -0.5), 1, 0.5, color=color, clip_on=False))\n",
    "\n",
    "plt.title('Heatmap of MACCS Fingerprint Similarities with Split Annotations')\n",
    "plt.xlabel('MACCS Fingerprint Index')\n",
    "plt.ylabel('MACCS Fingerprint Index')\n",
    "\n",
    "from matplotlib.lines import Line2D\n",
    "legend_elements = [Line2D([0], [0], marker='o', color='w', markerfacecolor=color, markersize=10, label=split)\n",
    "                   for split, color in split_color_map.items()]\n",
    "plt.legend(handles=legend_elements, title='Split', bbox_to_anchor=(1.05, 1), loc='upper right')\n",
    "\n",
    "plt.tight_layout()\n",
    "plt.show()\n"
   ]
  }
 ],
 "metadata": {
  "kernelspec": {
   "display_name": "my_evs",
   "language": "python",
   "name": "python3"
  },
  "language_info": {
   "codemirror_mode": {
    "name": "ipython",
    "version": 3
   },
   "file_extension": ".py",
   "mimetype": "text/x-python",
   "name": "python",
   "nbconvert_exporter": "python",
   "pygments_lexer": "ipython3",
   "version": "3.8.19"
  }
 },
 "nbformat": 4,
 "nbformat_minor": 2
}
