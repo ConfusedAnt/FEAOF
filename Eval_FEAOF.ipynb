{
 "cells": [
  {
   "cell_type": "code",
   "execution_count": null,
   "metadata": {},
   "outputs": [],
   "source": [
    "from models import FEAOF\n",
    "from const import Descriptors\n",
    "from new_unit import Data, f1_acc, get_config, cross_validate\n",
    "from tqdm import tqdm\n",
    "import pandas as pd\n",
    "from torch_geometric.loader import DataLoader\n",
    "from typing import List\n",
    "import torch\n",
    "import os\n",
    "import numpy as np\n",
    "from sklearn.metrics import roc_curve, roc_auc_score\n",
    "from sklearn.metrics import f1_score, confusion_matrix, roc_curve,precision_recall_curve, auc\n",
    "from math import sqrt\n",
    "import pickle\n",
    "from herg_em import fetch_sequence, cal_em\n",
    "from unit import compute_metrics,predict"
   ]
  },
  {
   "cell_type": "code",
   "execution_count": 2,
   "metadata": {},
   "outputs": [],
   "source": [
    "Moldel_Type = \"FEAOF\"\n",
    "Model = \"MPNN\"\n",
    "FingerPrint = \"2FP\"\n",
    "Des_IF = \"11Des_1441IF_0FC\"\n",
    "\n",
    "file_name = f\"./trained_models/{Moldel_Type}/{Model}_{FingerPrint}_{Des_IF}.csv\"\n",
    "with open(file_name,\"w\") as p:\n",
    "    p.write(\"auc_score, pr_auc, AC, f1, SN, PR, SP, CCR, MCC\\n\")"
   ]
  },
  {
   "cell_type": "code",
   "execution_count": 3,
   "metadata": {},
   "outputs": [],
   "source": [
    "device = torch.device(\"cuda:0\" if torch.cuda.is_available() else \"cpu\")\n",
    "\n",
    "config_path = \"./configures/optimized/train_split/MPNN_GRAPH.yml\"\n",
    "model_save_path = \"./trained_models/FEAOF/0FC_FEAOF.pkl\""
   ]
  },
  {
   "cell_type": "code",
   "execution_count": 4,
   "metadata": {},
   "outputs": [],
   "source": [
    "with open(model_save_path, 'rb') as handle:\n",
    "    model_para = pickle.load(handle)"
   ]
  },
  {
   "cell_type": "code",
   "execution_count": 5,
   "metadata": {},
   "outputs": [
    {
     "data": {
      "text/plain": [
       "odict_keys(['project_node_feats.0.weight', 'project_node_feats.0.bias', 'gnn_layer.bias', 'gnn_layer.nn.0.weight', 'gnn_layer.nn.0.bias', 'gnn_layer.nn.2.weight', 'gnn_layer.nn.2.bias', 'gnn_layer.lin.weight', 'gru.weight_ih_l0', 'gru.weight_hh_l0', 'gru.bias_ih_l0', 'gru.bias_hh_l0', 'transformer.lin1.weight', 'transformer.lin1.bias', 'transformer.lin2.weight', 'transformer.lin2.bias', 'transformer.pools.0.S', 'transformer.pools.0.mab.fc_q.weight', 'transformer.pools.0.mab.fc_q.bias', 'transformer.pools.0.mab.layer_k.bias', 'transformer.pools.0.mab.layer_k.lin.weight', 'transformer.pools.0.mab.layer_v.bias', 'transformer.pools.0.mab.layer_v.lin.weight', 'transformer.pools.0.mab.fc_o.weight', 'transformer.pools.0.mab.fc_o.bias', 'transformer.pools.1.mab.fc_q.weight', 'transformer.pools.1.mab.fc_q.bias', 'transformer.pools.1.mab.layer_k.weight', 'transformer.pools.1.mab.layer_k.bias', 'transformer.pools.1.mab.layer_v.weight', 'transformer.pools.1.mab.layer_v.bias', 'transformer.pools.1.mab.fc_o.weight', 'transformer.pools.1.mab.fc_o.bias', 'transformer.pools.2.S', 'transformer.pools.2.mab.fc_q.weight', 'transformer.pools.2.mab.fc_q.bias', 'transformer.pools.2.mab.layer_k.weight', 'transformer.pools.2.mab.layer_k.bias', 'transformer.pools.2.mab.layer_v.weight', 'transformer.pools.2.mab.layer_v.bias', 'transformer.pools.2.mab.fc_o.weight', 'transformer.pools.2.mab.fc_o.bias', 'fc.0.weight', 'fc.0.bias', 'fc.1.weight', 'fc.1.bias', 'fc.2.weight', 'fc.2.bias', 'fc.3.weight', 'fc.3.bias', 'fc.4.weight', 'fc.4.bias', 'linear1.weight', 'linear1.bias', 'phys_chem_linear.weight', 'phys_chem_linear.bias', 'herg_linear.weight', 'herg_linear.bias', 'herg_out.weight', 'herg_out.bias', 'inter_linear.weight', 'inter_linear.bias', 'inter_out.weight', 'inter_out.bias'])"
      ]
     },
     "execution_count": 5,
     "metadata": {},
     "output_type": "execute_result"
    }
   ],
   "source": [
    "model_para.keys()"
   ]
  },
  {
   "cell_type": "code",
   "execution_count": 6,
   "metadata": {},
   "outputs": [
    {
     "name": "stderr",
     "output_type": "stream",
     "text": [
      "/home/zhaobowen/miniconda3/envs/my_evs/lib/python3.8/site-packages/torch_geometric/deprecation.py:12: UserWarning: 'nn.glob.GraphMultisetTransformer' is deprecated, use 'nn.aggr.GraphMultisetTransformer' instead\n",
      "  warnings.warn(out)\n"
     ]
    },
    {
     "data": {
      "text/plain": [
       "<All keys matched successfully>"
      ]
     },
     "execution_count": 6,
     "metadata": {},
     "output_type": "execute_result"
    }
   ],
   "source": [
    "hyperparameters = get_config(config_path)\n",
    "hyperparameters = {k: v.item() if isinstance(v, np.generic) else v for k, v in hyperparameters.items()}\n",
    "# model = Cat_GCN(**hyperparameters).model\n",
    "model = FEAOF(**hyperparameters).model\n",
    "model.load_state_dict(model_para)"
   ]
  },
  {
   "cell_type": "code",
   "execution_count": 11,
   "metadata": {},
   "outputs": [],
   "source": [
    "\n",
    "# uniprot_ID=\"Q12809\"\n",
    "# uni_id = fetch_sequence(uniprot_ID)\n",
    "# herg_em = cal_em(uni_id)[0]\n",
    "herg_em = None"
   ]
  },
  {
   "cell_type": "code",
   "execution_count": 18,
   "metadata": {},
   "outputs": [
    {
     "name": "stdout",
     "output_type": "stream",
     "text": [
      "./data/processed/Train_Val.csv\n",
      "data number :  (10543, 4)\n"
     ]
    }
   ],
   "source": [
    "Val_All_Features = \"./data/IF_Data/Val_All_Features.pkl\"\n",
    "Val = \"./data/processed/Train_Val.csv\"\n",
    "Val = Data(Val)\n",
    "Val(Descriptors.GRAPH)"
   ]
  },
  {
   "cell_type": "code",
   "execution_count": 19,
   "metadata": {},
   "outputs": [
    {
     "name": "stdout",
     "output_type": "stream",
     "text": [
      "Binary classification performace metrics:\n",
      "[[570 100]\n",
      " [ 94 353]]\n",
      "TP, FN, TN, FP\n",
      "353, 94, 570, 100\n"
     ]
    },
    {
     "data": {
      "text/plain": [
       "(0.8874, 0.8414, 0.8263, 0.7844, 0.7897, 0.7792, 0.8507, 0.8202, 0.6391)"
      ]
     },
     "execution_count": 19,
     "metadata": {},
     "output_type": "execute_result"
    }
   ],
   "source": [
    "y_hat, hiden_features = predict(model,Val.x_test,Val_All_Features,Val.test_Ro5_idx,herg_em,device)\n",
    "compute_metrics(np.array(Val.y_test),y_hat,file_name)"
   ]
  },
  {
   "cell_type": "code",
   "execution_count": null,
   "metadata": {},
   "outputs": [],
   "source": [
    "from sklearn.manifold import TSNE\n",
    "import matplotlib.pyplot as plt\n",
    "from sklearn.preprocessing import LabelEncoder\n",
    "\n",
    "features_np = hiden_features.detach().cpu().numpy()  # Convert features to numpy array if using PyTorch\n",
    "\n",
    "labels = np.array(Val.y_test) \n",
    "label_encoder = LabelEncoder()\n",
    "encoded_labels = label_encoder.fit_transform(labels)\n",
    "\n",
    "tsne = TSNE(n_components=2, random_state=42)\n",
    "features_tsne = tsne.fit_transform(features_np)\n",
    "\n",
    "plt.figure(figsize=(10, 8))\n",
    "\n",
    "scatter = plt.scatter(features_tsne[:, 0], features_tsne[:, 1], c=labels, cmap='coolwarm', marker='o',alpha=0.6)\n",
    "\n",
    "plt.legend(*scatter.legend_elements(), title=\"Labels\")\n",
    "\n",
    "plt.title('t-SNE Visualization of Hidden Features of Val')\n",
    "plt.xlabel('t-SNE 1')\n",
    "plt.ylabel('t-SNE 2')\n",
    "plt.show()"
   ]
  },
  {
   "cell_type": "code",
   "execution_count": null,
   "metadata": {},
   "outputs": [
    {
     "name": "stdout",
     "output_type": "stream",
     "text": [
      "./data/processed/Test_1.csv\n",
      "data number :  (177, 4)\n"
     ]
    }
   ],
   "source": [
    "Test_1_All_Features = \"./data/IF_Data/Test_1_All_Features.pkl\"\n",
    "Test_1 = \"./data/processed/Test_1.csv\"\n",
    "Test_1 = Data(Test_1)\n",
    "Test_1(Descriptors.GRAPH)"
   ]
  },
  {
   "cell_type": "code",
   "execution_count": 14,
   "metadata": {},
   "outputs": [
    {
     "name": "stdout",
     "output_type": "stream",
     "text": [
      "Binary classification performace metrics:\n",
      "[[104  25]\n",
      " [ 12  36]]\n",
      "TP, FN, TN, FP\n",
      "36, 12, 104, 25\n"
     ]
    },
    {
     "data": {
      "text/plain": [
       "(0.825, 0.5976, 0.791, 0.6606, 0.75, 0.5902, 0.8062, 0.7781, 0.5203)"
      ]
     },
     "execution_count": 14,
     "metadata": {},
     "output_type": "execute_result"
    }
   ],
   "source": [
    "y_hat, hiden_features = predict(model,Test_1.x_test,Test_1_All_Features,Test_1.test_Ro5_idx,herg_em,device)\n",
    "compute_metrics(np.array(Test_1.y_test),y_hat,file_name)"
   ]
  },
  {
   "cell_type": "code",
   "execution_count": null,
   "metadata": {},
   "outputs": [],
   "source": [
    "from sklearn.manifold import TSNE\n",
    "import matplotlib.pyplot as plt\n",
    "from sklearn.preprocessing import LabelEncoder\n",
    "\n",
    "features_np = hiden_features.detach().cpu().numpy()  # Convert features to numpy array if using PyTorch\n",
    "\n",
    "labels = np.array(Test_1.y_test) \n",
    "label_encoder = LabelEncoder()\n",
    "encoded_labels = label_encoder.fit_transform(labels)\n",
    "\n",
    "tsne = TSNE(n_components=2, random_state=42)\n",
    "features_tsne = tsne.fit_transform(features_np)\n",
    "\n",
    "plt.figure(figsize=(10, 8))\n",
    "\n",
    "scatter = plt.scatter(features_tsne[:, 0], features_tsne[:, 1], c=labels, cmap='coolwarm', marker='o',alpha=0.45)\n",
    "\n",
    "plt.legend(*scatter.legend_elements(), title=\"Labels\")\n",
    "\n",
    "plt.title('t-SNE Visualization of Hidden Features of Test_1')\n",
    "plt.xlabel('t-SNE 1')\n",
    "plt.ylabel('t-SNE 2')\n",
    "plt.show()"
   ]
  },
  {
   "cell_type": "code",
   "execution_count": 16,
   "metadata": {},
   "outputs": [
    {
     "name": "stdout",
     "output_type": "stream",
     "text": [
      "./data/processed/Test_2.csv\n",
      "data number :  (379, 4)\n"
     ]
    }
   ],
   "source": [
    "Test_2_All_Features = \"./data/IF_Data/Test_2_All_Features.pkl\"\n",
    "Test_2 = \"./data/processed/Test_2.csv\"\n",
    "Test_2 = Data(Test_2)\n",
    "Test_2(Descriptors.GRAPH)"
   ]
  },
  {
   "cell_type": "code",
   "execution_count": 17,
   "metadata": {},
   "outputs": [
    {
     "name": "stdout",
     "output_type": "stream",
     "text": [
      "Binary classification performace metrics:\n",
      "[[224  51]\n",
      " [ 24  80]]\n",
      "TP, FN, TN, FP\n",
      "80, 24, 224, 51\n"
     ]
    },
    {
     "data": {
      "text/plain": [
       "(0.8395, 0.6314, 0.8021, 0.6809, 0.7692, 0.6107, 0.8145, 0.7919, 0.5477)"
      ]
     },
     "execution_count": 17,
     "metadata": {},
     "output_type": "execute_result"
    }
   ],
   "source": [
    "y_hat, hiden_features = predict(model,Test_2.x_test,Test_2_All_Features,Test_2.test_Ro5_idx,herg_em,device)\n",
    "compute_metrics(np.array(Test_2.y_test),y_hat,file_name)"
   ]
  },
  {
   "cell_type": "code",
   "execution_count": null,
   "metadata": {},
   "outputs": [],
   "source": [
    "from sklearn.manifold import TSNE\n",
    "import matplotlib.pyplot as plt\n",
    "from sklearn.preprocessing import LabelEncoder\n",
    "\n",
    "\n",
    "features_np = hiden_features.detach().cpu().numpy()  # Convert features to numpy array if using PyTorch\n",
    "\n",
    "labels = np.array(Test_2.y_test)  \n",
    "label_encoder = LabelEncoder()\n",
    "encoded_labels = label_encoder.fit_transform(labels)\n",
    "\n",
    "tsne = TSNE(n_components=2, random_state=42)\n",
    "features_tsne = tsne.fit_transform(features_np)\n",
    "\n",
    "plt.figure(figsize=(10, 8))\n",
    "scatter = plt.scatter(features_tsne[:, 0], features_tsne[:, 1], c=labels, cmap='coolwarm', marker='o',alpha=0.6)\n",
    "\n",
    "plt.legend(*scatter.legend_elements(), title=\"Labels\")\n",
    "\n",
    "plt.title('t-SNE Visualization of Hidden Features of Test_2')\n",
    "plt.xlabel('t-SNE 1')\n",
    "plt.ylabel('t-SNE 2')\n",
    "plt.show()"
   ]
  }
 ],
 "metadata": {
  "kernelspec": {
   "display_name": "my_evs",
   "language": "python",
   "name": "python3"
  },
  "language_info": {
   "codemirror_mode": {
    "name": "ipython",
    "version": 3
   },
   "file_extension": ".py",
   "mimetype": "text/x-python",
   "name": "python",
   "nbconvert_exporter": "python",
   "pygments_lexer": "ipython3",
   "version": "3.8.19"
  }
 },
 "nbformat": 4,
 "nbformat_minor": 2
}
