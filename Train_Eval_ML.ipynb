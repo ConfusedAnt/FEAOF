{
 "cells": [
  {
   "cell_type": "code",
   "execution_count": 21,
   "metadata": {},
   "outputs": [
    {
     "data": {
      "text/plain": [
       "0"
      ]
     },
     "execution_count": 21,
     "metadata": {},
     "output_type": "execute_result"
    }
   ],
   "source": [
    "# All Features Dimension = 5183\n",
    "\n",
    "# ECFP(1024) + Pubchem FP(881) + Descriptors(11)=1916\n",
    "\n",
    "# Descriptors calculated by mordred (1826)\n",
    "\n",
    "# Interaction Fingerprint(1440) + Docking Score (1)=1441\n",
    "\n",
    "5183-1916-1826-1441"
   ]
  },
  {
   "cell_type": "markdown",
   "metadata": {},
   "source": [
    "ML"
   ]
  },
  {
   "cell_type": "code",
   "execution_count": 1,
   "metadata": {},
   "outputs": [],
   "source": [
    "from featurization import compute_fps, compute_physchem, compute_fingerprint_features, compute_descriptor_features\n",
    "import numpy as np\n",
    "from typing import List\n",
    "import pandas as pd\n",
    "import pickle\n",
    "%reload_ext autoreload\n",
    "%autoreload 2\n",
    "from new_unit import Data, get_config, cross_validate, f1_acc\n",
    "from models import RF, SVM, GBM,  GCN, MPNN, CNN, Transformer\n",
    "from rdkit.Chem import Descriptors as Des\n",
    "from rdkit import Chem\n",
    "\n",
    "from sklearn.metrics import roc_curve, roc_auc_score\n",
    "from sklearn.metrics import f1_score, confusion_matrix, roc_curve,precision_recall_curve, auc\n",
    "from math import sqrt\n",
    "from unit import compute_metrics\n",
    "np.random.seed(42)"
   ]
  },
  {
   "cell_type": "code",
   "execution_count": 2,
   "metadata": {},
   "outputs": [],
   "source": [
    "Moldel_Type = \"ML\"\n",
    "Model = \"GBM\"\n",
    "FingerPrint = \"2FP\"\n",
    "Des_IF = \"11Des_1441IF\"\n",
    "\n",
    "file_name = f\"./trained_models/{Moldel_Type}/{Model}_{FingerPrint}_{Des_IF}_forAUC.csv\"\n",
    "model_name = f\"./trained_models/{Moldel_Type}/{Model}_{FingerPrint}_{Des_IF}.pkl\"\n",
    "\n",
    "# hyperparameters = get_config(f\"./configures/optimized/train_split/{Model}_ECFP.yml\")\n",
    "# if \"epochs\" in hyperparameters:\n",
    "#     hyperparameters.pop(\"epochs\")\n",
    "# f = GBM(**hyperparameters)\n",
    "\n",
    "with open(model_name, 'rb') as handle:\n",
    "    f = pickle.load(handle)"
   ]
  },
  {
   "cell_type": "code",
   "execution_count": 3,
   "metadata": {},
   "outputs": [],
   "source": [
    "with open(file_name,\"w\") as p:\n",
    "    p.write(\"auc_score, pr_auc, AC, f1, SN, PR, SP, CCR, MCC\\n\")"
   ]
  },
  {
   "cell_type": "code",
   "execution_count": 4,
   "metadata": {},
   "outputs": [],
   "source": [
    "df = pd.read_csv(\"./data/IF_Data/Train_Val_IF.csv\")\n",
    "df['r_i_docking_score'] = df['r_i_docking_score'].apply(lambda x: 0 if x > 0 else x)\n",
    "df[\"MW\"]=df[\"smiles\"].apply(lambda x : Des.ExactMolWt(Chem.MolFromSmiles(x)))\n",
    "\n",
    "\n",
    "df_train = df[df[\"split\"]==\"train\"].reset_index()\n",
    "df_val = df[df[\"split\"]==\"test\"].reset_index()\n",
    "\n",
    "train_mask = (df_train['MW'] >= 300) & (df_train['MW'] <= 500)\n",
    "val_mask = (df_val['MW'] >= 300) & (df_val['MW'] <= 500)\n",
    "\n",
    "train_Ro5_idx = df_train[train_mask].index\n",
    "val_Ro5_idx = df_val[val_mask].index\n"
   ]
  },
  {
   "cell_type": "code",
   "execution_count": 5,
   "metadata": {},
   "outputs": [],
   "source": [
    "df_Test_1 = pd.read_csv(\"./data/IF_Data/Test_1_IF.csv\")\n",
    "df_Test_1['r_i_docking_score'] = df_Test_1['r_i_docking_score'].apply(lambda x: 0 if x > 0 else x)\n",
    "df_Test_1[\"MW\"]=df_Test_1[\"smiles\"].apply(lambda x : Des.ExactMolWt(Chem.MolFromSmiles(x)))\n",
    "\n",
    "# df_Test_1 = df_Test_1.reset_index()\n",
    "\n",
    "Test_1_mask = (df_Test_1['MW'] >= 300) & (df_Test_1['MW'] <= 500)\n",
    "Test_1_Ro5_idx = df_Test_1[Test_1_mask].index"
   ]
  },
  {
   "cell_type": "code",
   "execution_count": 6,
   "metadata": {},
   "outputs": [
    {
     "data": {
      "text/plain": [
       "(177,)"
      ]
     },
     "execution_count": 6,
     "metadata": {},
     "output_type": "execute_result"
    }
   ],
   "source": [
    "Test_1_Ro5_idx.shape"
   ]
  },
  {
   "cell_type": "code",
   "execution_count": 7,
   "metadata": {},
   "outputs": [],
   "source": [
    "df_Test_2 = pd.read_csv(\"./data/IF_Data/Test_2_IF.csv\")\n",
    "df_Test_2['r_i_docking_score'] = df_Test_2['r_i_docking_score'].apply(lambda x: 0 if x > 0 else x)\n",
    "df_Test_2[\"MW\"]=df_Test_2[\"smiles\"].apply(lambda x : Des.ExactMolWt(Chem.MolFromSmiles(x)))\n",
    "\n",
    "# df_Test_2 = df_Test_2.reset_index()\n",
    "\n",
    "Test_2_mask = (df_Test_2['MW'] >= 300) & (df_Test_2['MW'] <= 500)\n",
    "Test_2_Ro5_idx = df_Test_2[Test_2_mask].index"
   ]
  },
  {
   "cell_type": "code",
   "execution_count": 8,
   "metadata": {},
   "outputs": [
    {
     "data": {
      "text/plain": [
       "(379,)"
      ]
     },
     "execution_count": 8,
     "metadata": {},
     "output_type": "execute_result"
    }
   ],
   "source": [
    "Test_2_Ro5_idx.shape"
   ]
  },
  {
   "cell_type": "code",
   "execution_count": 9,
   "metadata": {},
   "outputs": [],
   "source": [
    "train_all_rep = \"./data/IF_Data/Train_All_Features.pkl\"\n",
    "with open(train_all_rep, 'rb') as handle:\n",
    "    train_all_rep = pickle.load(handle)[train_Ro5_idx]\n",
    "\n",
    "val_all_rep = \"./data/IF_Data/Val_All_Features.pkl\"\n",
    "with open(val_all_rep, 'rb') as handle:\n",
    "    val_all_rep = pickle.load(handle)[val_Ro5_idx]\n",
    "\n",
    "Test_1_all_rep = \"./data/IF_Data/Test_1_All_Features.pkl\"\n",
    "with open(Test_1_all_rep, 'rb') as handle:\n",
    "    Test_1_all_rep = pickle.load(handle)[Test_1_Ro5_idx]\n",
    "\n",
    "Test_2_all_rep = \"./data/IF_Data/Test_2_All_Features.pkl\"\n",
    "with open(Test_2_all_rep, 'rb') as handle:\n",
    "    Test_2_all_rep = pickle.load(handle)[Test_2_Ro5_idx]"
   ]
  },
  {
   "cell_type": "code",
   "execution_count": 10,
   "metadata": {},
   "outputs": [
    {
     "data": {
      "text/plain": [
       "(177, 5183)"
      ]
     },
     "execution_count": 10,
     "metadata": {},
     "output_type": "execute_result"
    }
   ],
   "source": [
    "Test_1_all_rep.shape"
   ]
  },
  {
   "cell_type": "code",
   "execution_count": 11,
   "metadata": {},
   "outputs": [
    {
     "data": {
      "text/plain": [
       "(379, 5183)"
      ]
     },
     "execution_count": 11,
     "metadata": {},
     "output_type": "execute_result"
    }
   ],
   "source": [
    "Test_2_all_rep.shape"
   ]
  },
  {
   "cell_type": "code",
   "execution_count": 12,
   "metadata": {},
   "outputs": [],
   "source": [
    "# Train\n",
    "# f.train(train_all_rep[:,:1916], np.array(df_train[train_mask][\"y\"]))\n",
    "# with open(model_name, 'wb') as handle:\n",
    "#     pickle.dump(f, handle, protocol=pickle.HIGHEST_PROTOCOL)"
   ]
  },
  {
   "cell_type": "code",
   "execution_count": 13,
   "metadata": {},
   "outputs": [
    {
     "name": "stdout",
     "output_type": "stream",
     "text": [
      "Binary classification performace metrics:\n",
      "[[583  87]\n",
      " [107 340]]\n",
      "TP, FN, TN, FP\n",
      "340, 107, 583, 87\n",
      "0.7780320366132725\n"
     ]
    }
   ],
   "source": [
    "### Validation\n",
    "\n",
    "# y_hat = f.predict(val_all_rep[:,:1916])\n",
    "# y_hat_proba = f.predict_prob(val_all_rep[:,:1916])[:, 1]\n",
    "\n",
    "y_hat = f.predict(np.hstack((val_all_rep[:, :1916], val_all_rep[:, 3742:])))\n",
    "y_hat_proba = f.predict_prob(np.hstack((val_all_rep[:, :1916], val_all_rep[:, 3742:])))[:, 1]\n",
    "\n",
    "auc_score, pr_auc, AC, f1, SN, PR, SP, CCR, MCC = compute_metrics(df_val[val_mask][\"y\"], y_hat_proba, file_name)\n",
    "\n",
    "f1, acc = f1_acc(np.array(df_val[val_mask][\"y\"]), y_hat)\n",
    "fp_val, tpr_val, _ = roc_curve(np.array(df_val[val_mask][\"y\"]), y_hat_proba)\n",
    "roc_auc_val = auc(fp_val, tpr_val)\n",
    "print(f1)"
   ]
  },
  {
   "cell_type": "code",
   "execution_count": 14,
   "metadata": {},
   "outputs": [
    {
     "name": "stdout",
     "output_type": "stream",
     "text": [
      "Binary classification performace metrics:\n",
      "[[109  20]\n",
      " [ 20  28]]\n",
      "TP, FN, TN, FP\n",
      "28, 20, 109, 20\n",
      "0.5833333333333334\n"
     ]
    }
   ],
   "source": [
    "### Test 1\n",
    "\n",
    "# y_hat = f.predict(Test_1_all_rep[:,:1916])\n",
    "# y_hat_proba = f.predict_prob(Test_1_all_rep[:,:1916])[:, 1]\n",
    "y_hat = f.predict(np.hstack((Test_1_all_rep[:, :1916], Test_1_all_rep[:, 3742:])))\n",
    "y_hat_proba = f.predict_prob(np.hstack((Test_1_all_rep[:, :1916], Test_1_all_rep[:, 3742:])))[:, 1]\n",
    "\n",
    "auc_score, pr_auc, AC, f1, SN, PR, SP, CCR, MCC = compute_metrics(df_Test_1[Test_1_mask][\"y\"], y_hat_proba, file_name)\n",
    "f1, acc = f1_acc(np.array(df_Test_1[Test_1_mask][\"y\"]), y_hat)\n",
    "fp_t1, tpr_t1, _= roc_curve(np.array(df_Test_1[Test_1_mask][\"y\"]), y_hat_proba)\n",
    "roc_auc_t1 = auc(fp_t1, tpr_t1)\n",
    "print(f1)"
   ]
  },
  {
   "cell_type": "code",
   "execution_count": 15,
   "metadata": {},
   "outputs": [
    {
     "data": {
      "text/plain": [
       "0    129\n",
       "1     48\n",
       "Name: y, dtype: int64"
      ]
     },
     "execution_count": 15,
     "metadata": {},
     "output_type": "execute_result"
    }
   ],
   "source": [
    "df_Test_1[Test_1_mask][\"y\"].value_counts()"
   ]
  },
  {
   "cell_type": "code",
   "execution_count": 16,
   "metadata": {},
   "outputs": [
    {
     "name": "stdout",
     "output_type": "stream",
     "text": [
      "Binary classification performace metrics:\n",
      "[[236  39]\n",
      " [ 36  68]]\n",
      "TP, FN, TN, FP\n",
      "68, 36, 236, 39\n",
      "0.6445497630331753\n"
     ]
    }
   ],
   "source": [
    "### Test 2\n",
    "\n",
    "# y_hat = f.predict(Test_2_all_rep[:,:1916])\n",
    "# y_hat_proba = f.predict_prob(Test_2_all_rep[:,:1916])[:, 1]\n",
    "y_hat = f.predict(np.hstack((Test_2_all_rep[:, :1916], Test_2_all_rep[:, 3742:])))\n",
    "y_hat_proba = f.predict_prob(np.hstack((Test_2_all_rep[:, :1916], Test_2_all_rep[:, 3742:])))[:, 1]\n",
    "\n",
    "auc_score, pr_auc, AC, f1, SN, PR, SP, CCR, MCC = compute_metrics(df_Test_2[Test_2_mask][\"y\"], y_hat_proba, file_name)\n",
    "f1, acc = f1_acc(np.array(df_Test_2[Test_2_mask][\"y\"]), y_hat)\n",
    "fp_t2, tpr_t2,_ = roc_curve(np.array(df_Test_2[Test_2_mask][\"y\"]), y_hat_proba)\n",
    "roc_auc_t2 = auc(fp_t2, tpr_t2)\n",
    "print(f1)"
   ]
  },
  {
   "cell_type": "code",
   "execution_count": 17,
   "metadata": {},
   "outputs": [
    {
     "data": {
      "text/plain": [
       "0    275\n",
       "1    104\n",
       "Name: y, dtype: int64"
      ]
     },
     "execution_count": 17,
     "metadata": {},
     "output_type": "execute_result"
    }
   ],
   "source": [
    "df_Test_2[Test_2_mask][\"y\"].value_counts()"
   ]
  },
  {
   "cell_type": "code",
   "execution_count": null,
   "metadata": {},
   "outputs": [],
   "source": [
    "import numpy as np\n",
    "# import matplotlib.pyplot as plt\n",
    "from sklearn import datasets\n",
    "from sklearn.model_selection import train_test_split\n",
    "from sklearn.svm import SVC\n",
    "from sklearn.ensemble import RandomForestClassifier\n",
    "from sklearn.ensemble import GradientBoostingClassifier\n",
    "from sklearn.metrics import roc_curve, auc\n",
    "from sklearn.preprocessing import StandardScaler\n",
    "\n",
    "\n",
    "import pandas as pd\n",
    "from rdkit import Chem\n",
    "from rdkit.Chem import Descriptors\n",
    "\n",
    "import matplotlib as mpl\n",
    "mpl.rcParams['pdf.fonttype'] = 42\n",
    "mpl.rcParams['ps.fonttype'] = 42\n",
    "\n",
    "import matplotlib.pyplot as plt\n",
    "plt.rc('font',family='Times New Roman')\n",
    "\n",
    "\n",
    "\n",
    "# # 计算各模型的ROC曲线及AUC值\n",
    "# fp_val, tpr_val, _ = roc_curve(np.array(df_val[val_mask][\"y\"]), y_hat_val)\n",
    "# roc_auc_val = auc(fp_val, tpr_val)\n",
    "\n",
    "# fp_t1, tpr_t1, _= roc_curve(np.array(df_Test_1[Test_1_mask][\"y\"]), y_hat_t1)\n",
    "# roc_auc_t1 = auc(fp_t1, tpr_t1)\n",
    "\n",
    "# fp_t2, tpr_t2,_ = roc_curve(np.array(df_Test_2[Test_2_mask][\"y\"]), y_hat_t2)\n",
    "# roc_auc_t2 = auc(fp_t2, tpr_t2)\n",
    "\n",
    "# 绘制多个模型的ROC曲线\n",
    "plt.figure(figsize=(12, 10), dpi=600)\n",
    "\n",
    "plt.plot(fp_val, tpr_val, color='darkorange', lw=2, label=f'Validation (AUC = {roc_auc_val:.2f})')\n",
    "plt.plot(fp_t1, tpr_t1, color='green', lw=2, label=f'Test 1 (AUC = {roc_auc_t1:.2f})')\n",
    "plt.plot(fp_t2, tpr_t2, color='blue', lw=2, label=f'Test 2 (AUC = {roc_auc_t2:.2f})')\n",
    "\n",
    "plt.plot([0, 1], [0, 1], color='navy', lw=2, linestyle='--')\n",
    "\n",
    "# 修改刻度字体大小\n",
    "plt.xticks(fontsize=16)\n",
    "plt.yticks(fontsize=16)\n",
    "\n",
    "plt.xlim([0.0, 1.0])\n",
    "plt.ylim([0.0, 1.05])\n",
    "plt.xlabel('False Positive Rate', fontsize=20)\n",
    "plt.ylabel('True Positive Rate', fontsize=20)\n",
    "plt.title('ROC Curves for GBM on Validation, Test 1, and Test 2', fontsize=20)\n",
    "plt.legend(loc=\"lower right\", fontsize=20)\n",
    "\n",
    "# 保存为矢量图（PDF格式）\n",
    "plt.savefig(\"/home/ubuntu/FEAOF/figs/fig4B_2.pdf\", format='pdf', bbox_inches='tight')\n",
    "plt.show()\n"
   ]
  },
  {
   "cell_type": "code",
   "execution_count": null,
   "metadata": {},
   "outputs": [],
   "source": []
  }
 ],
 "metadata": {
  "kernelspec": {
   "display_name": "my_evs",
   "language": "python",
   "name": "python3"
  },
  "language_info": {
   "codemirror_mode": {
    "name": "ipython",
    "version": 3
   },
   "file_extension": ".py",
   "mimetype": "text/x-python",
   "name": "python",
   "nbconvert_exporter": "python",
   "pygments_lexer": "ipython3",
   "version": "3.8.18"
  }
 },
 "nbformat": 4,
 "nbformat_minor": 2
}
