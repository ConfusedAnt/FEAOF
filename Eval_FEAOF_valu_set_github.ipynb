{
 "cells": [
  {
   "cell_type": "code",
   "execution_count": 1,
   "metadata": {},
   "outputs": [
    {
     "name": "stderr",
     "output_type": "stream",
     "text": [
      "==============================\n",
      "*** Open Babel Error  in openLib\n",
      "  /home/ubuntu/miniconda3/envs/my_evs/lib/openbabel/3.1.0/png2format.so did not load properly.\n",
      " Error: libXrender.so.1: cannot open shared object file: No such file or directory\n"
     ]
    }
   ],
   "source": [
    "from models import FEAOF\n",
    "from const import Descriptors\n",
    "from new_unit import Data, f1_acc, get_config, cross_validate\n",
    "from tqdm import tqdm\n",
    "import pandas as pd\n",
    "from torch_geometric.loader import DataLoader\n",
    "from typing import List\n",
    "import torch\n",
    "import os\n",
    "import numpy as np\n",
    "from sklearn.metrics import roc_curve, roc_auc_score\n",
    "from sklearn.metrics import f1_score, confusion_matrix, roc_curve,precision_recall_curve, auc\n",
    "from math import sqrt\n",
    "import pickle\n",
    "# from herg_em import fetch_sequence, cal_em\n",
    "from unit import compute_metrics,predict"
   ]
  },
  {
   "cell_type": "code",
   "execution_count": 2,
   "metadata": {},
   "outputs": [],
   "source": [
    "Moldel_Type = \"FEAOF\"\n",
    "Model = \"MPNN\"\n",
    "FingerPrint = \"2FP\"\n",
    "Des_IF = \"11Des_1441IF_0FC\"\n",
    "\n",
    "file_name = f\"./trained_models/{Moldel_Type}/{Model}_{FingerPrint}_{Des_IF}.csv\"\n",
    "with open(file_name,\"w\") as p:\n",
    "    p.write(\"auc_score, pr_auc, AC, f1, SN, PR, SP, CCR, MCC\\n\")"
   ]
  },
  {
   "cell_type": "markdown",
   "metadata": {},
   "source": [
    "para form gpu to cpu"
   ]
  },
  {
   "cell_type": "code",
   "execution_count": 3,
   "metadata": {},
   "outputs": [],
   "source": [
    "# import torch\n",
    "# import pickle\n",
    "\n",
    "# model_save_path = '/content/0FC_FEAOF.pkl'\n",
    "# # 加载原始 CUDA 模型参数（因为原本是GPU上保存的）\n",
    "# with open(model_save_path, 'rb') as handle:\n",
    "#     model_para = pickle.load(handle)\n",
    "\n",
    "# # 把所有张量移动到 CPU\n",
    "# model_para_cpu = {k: v.cpu() for k, v in model_para.items()}\n",
    "\n",
    "# # 重新保存为 CPU 版\n",
    "# cpu_model_save_path = 'model_state_cpu.pkl'\n",
    "# with open(cpu_model_save_path, 'wb') as handle:\n",
    "#     pickle.dump(model_para_cpu, handle)\n"
   ]
  },
  {
   "cell_type": "code",
   "execution_count": 4,
   "metadata": {},
   "outputs": [],
   "source": [
    "device = torch.device(\"cuda:0\" if torch.cuda.is_available() else \"cpu\")\n",
    "\n",
    "config_path = \"./configures/optimized/train_split/MPNN_GRAPH.yml\"\n",
    "model_save_path = \"./trained_models/FEAOF/model_state_cpu.pkl\""
   ]
  },
  {
   "cell_type": "code",
   "execution_count": 5,
   "metadata": {},
   "outputs": [],
   "source": [
    "with open(model_save_path, 'rb') as handle:\n",
    "    model_para = pickle.load(handle)"
   ]
  },
  {
   "cell_type": "code",
   "execution_count": 6,
   "metadata": {},
   "outputs": [
    {
     "data": {
      "text/plain": [
       "dict_keys(['project_node_feats.0.weight', 'project_node_feats.0.bias', 'gnn_layer.bias', 'gnn_layer.nn.0.weight', 'gnn_layer.nn.0.bias', 'gnn_layer.nn.2.weight', 'gnn_layer.nn.2.bias', 'gnn_layer.lin.weight', 'gru.weight_ih_l0', 'gru.weight_hh_l0', 'gru.bias_ih_l0', 'gru.bias_hh_l0', 'transformer.lin1.weight', 'transformer.lin1.bias', 'transformer.lin2.weight', 'transformer.lin2.bias', 'transformer.pools.0.S', 'transformer.pools.0.mab.fc_q.weight', 'transformer.pools.0.mab.fc_q.bias', 'transformer.pools.0.mab.layer_k.bias', 'transformer.pools.0.mab.layer_k.lin.weight', 'transformer.pools.0.mab.layer_v.bias', 'transformer.pools.0.mab.layer_v.lin.weight', 'transformer.pools.0.mab.fc_o.weight', 'transformer.pools.0.mab.fc_o.bias', 'transformer.pools.1.mab.fc_q.weight', 'transformer.pools.1.mab.fc_q.bias', 'transformer.pools.1.mab.layer_k.weight', 'transformer.pools.1.mab.layer_k.bias', 'transformer.pools.1.mab.layer_v.weight', 'transformer.pools.1.mab.layer_v.bias', 'transformer.pools.1.mab.fc_o.weight', 'transformer.pools.1.mab.fc_o.bias', 'transformer.pools.2.S', 'transformer.pools.2.mab.fc_q.weight', 'transformer.pools.2.mab.fc_q.bias', 'transformer.pools.2.mab.layer_k.weight', 'transformer.pools.2.mab.layer_k.bias', 'transformer.pools.2.mab.layer_v.weight', 'transformer.pools.2.mab.layer_v.bias', 'transformer.pools.2.mab.fc_o.weight', 'transformer.pools.2.mab.fc_o.bias', 'fc.0.weight', 'fc.0.bias', 'fc.1.weight', 'fc.1.bias', 'fc.2.weight', 'fc.2.bias', 'fc.3.weight', 'fc.3.bias', 'fc.4.weight', 'fc.4.bias', 'linear1.weight', 'linear1.bias', 'phys_chem_linear.weight', 'phys_chem_linear.bias', 'herg_linear.weight', 'herg_linear.bias', 'herg_out.weight', 'herg_out.bias', 'inter_linear.weight', 'inter_linear.bias', 'inter_out.weight', 'inter_out.bias'])"
      ]
     },
     "execution_count": 6,
     "metadata": {},
     "output_type": "execute_result"
    }
   ],
   "source": [
    "model_para.keys()"
   ]
  },
  {
   "cell_type": "code",
   "execution_count": 7,
   "metadata": {},
   "outputs": [
    {
     "name": "stderr",
     "output_type": "stream",
     "text": [
      "/home/ubuntu/miniconda3/envs/my_evs/lib/python3.8/site-packages/torch_geometric/deprecation.py:12: UserWarning: 'nn.glob.GraphMultisetTransformer' is deprecated, use 'nn.aggr.GraphMultisetTransformer' instead\n",
      "  warnings.warn(out)\n"
     ]
    },
    {
     "data": {
      "text/plain": [
       "<All keys matched successfully>"
      ]
     },
     "execution_count": 7,
     "metadata": {},
     "output_type": "execute_result"
    }
   ],
   "source": [
    "hyperparameters = get_config(config_path)\n",
    "hyperparameters = {k: v.item() if isinstance(v, np.generic) else v for k, v in hyperparameters.items()}\n",
    "# model = Cat_GCN(**hyperparameters).model\n",
    "model = FEAOF(**hyperparameters).model\n",
    "model.load_state_dict(model_para)"
   ]
  },
  {
   "cell_type": "code",
   "execution_count": 8,
   "metadata": {},
   "outputs": [],
   "source": [
    "\n",
    "# uniprot_ID=\"Q12809\"\n",
    "# uni_id = fetch_sequence(uniprot_ID)\n",
    "# herg_em = cal_em(uni_id)[0]\n",
    "herg_em = None"
   ]
  },
  {
   "cell_type": "code",
   "execution_count": null,
   "metadata": {},
   "outputs": [],
   "source": [
    "Val_All_Features = \"./data/IF_Data/Set60_All_Features.pkl\"\n",
    "Val = \"./data/IF_Data/5_eval_set_60_IF_filter.csv\"\n",
    "Val = Data(Val)\n",
    "Val(Descriptors.GRAPH)"
   ]
  },
  {
   "cell_type": "code",
   "execution_count": 10,
   "metadata": {},
   "outputs": [
    {
     "name": "stdout",
     "output_type": "stream",
     "text": [
      "Binary classification performace metrics:\n",
      "[[82 13]\n",
      " [31 72]]\n",
      "TP, FN, TN, FP\n",
      "72, 31, 82, 13\n"
     ]
    }
   ],
   "source": [
    "y_hat = predict(model,Val.x_test,Val_All_Features,Val.test_Ro5_idx,herg_em,device)\n",
    "compute_metrics(np.array(Val.y_test),y_hat,file_name)"
   ]
  },
  {
   "cell_type": "code",
   "execution_count": null,
   "metadata": {},
   "outputs": [],
   "source": [
    "Val_All_Features = \"./data/IF_Data/Set70_All_Features.pkl\"\n",
    "Val = \"./data/IF_Data/5_eval_set_70_IF_filter.csv\"\n",
    "Val = Data(Val)\n",
    "Val(Descriptors.GRAPH)"
   ]
  },
  {
   "cell_type": "code",
   "execution_count": 12,
   "metadata": {},
   "outputs": [
    {
     "name": "stdout",
     "output_type": "stream",
     "text": [
      "Binary classification performace metrics:\n",
      "[[138  24]\n",
      " [ 50 142]]\n",
      "TP, FN, TN, FP\n",
      "142, 50, 138, 24\n"
     ]
    }
   ],
   "source": [
    "y_hat = predict(model,Val.x_test,Val_All_Features,Val.test_Ro5_idx,herg_em,device)\n",
    "compute_metrics(np.array(Val.y_test),y_hat,file_name)"
   ]
  }
 ],
 "metadata": {
  "kernelspec": {
   "display_name": "my_evs",
   "language": "python",
   "name": "python3"
  },
  "language_info": {
   "codemirror_mode": {
    "name": "ipython",
    "version": 3
   },
   "file_extension": ".py",
   "mimetype": "text/x-python",
   "name": "python",
   "nbconvert_exporter": "python",
   "pygments_lexer": "ipython3",
   "version": "3.8.18"
  }
 },
 "nbformat": 4,
 "nbformat_minor": 2
}
